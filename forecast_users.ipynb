{
 "cells": [
  {
   "cell_type": "code",
   "execution_count": 1,
   "id": "fc2dbe8b-b066-4559-9d03-c3d6d39cd500",
   "metadata": {},
   "outputs": [],
   "source": [
    "import pandas as pd\n",
    "import numpy as np\n",
    "import matplotlib.pyplot as plt\n",
    "import seaborn as sns\n",
    "from pandas.plotting import register_matplotlib_converters\n",
    "\n",
    "import lightgbm as lgb\n",
    "from sklearn.metrics import mean_absolute_error, mean_squared_error\n",
    "\n",
    "import warnings\n",
    "warnings.filterwarnings('ignore')"
   ]
  },
  {
   "cell_type": "code",
   "execution_count": 2,
   "id": "164200a5-a058-41f9-9780-5309c56b2d46",
   "metadata": {},
   "outputs": [],
   "source": [
    "register_matplotlib_converters()\n",
    "sns.set_style('darkgrid')\n",
    "plt.rc('figure', figsize=(8, 4))\n",
    "plt.rc('font', size=12)"
   ]
  },
  {
   "cell_type": "markdown",
   "id": "e0d8b72c-4119-41ce-a0ed-cf837e1d809c",
   "metadata": {},
   "source": [
    "# Data"
   ]
  },
  {
   "cell_type": "code",
   "execution_count": 3,
   "id": "0b190ce8-e200-43c0-bf49-c2301956313c",
   "metadata": {},
   "outputs": [],
   "source": [
    "dfs = pd.read_csv('data/stores.csv', low_memory=False)\n",
    "dft = pd.read_csv('data/transactions.csv', low_memory=False)\n",
    "dfu = pd.read_csv('data/users.csv', low_memory=False)"
   ]
  },
  {
   "cell_type": "markdown",
   "id": "ff3a0bb1-60f4-4dbe-b5ad-0a798b60845a",
   "metadata": {},
   "source": [
    "### Add transaction data"
   ]
  },
  {
   "cell_type": "code",
   "execution_count": 4,
   "id": "72015a30-c1df-4e31-bf37-2b287daa8553",
   "metadata": {},
   "outputs": [],
   "source": [
    "# Add month of transaction\n",
    "dft['month'] = pd.to_datetime(dft.event_occurrence).dt.to_period('M')"
   ]
  },
  {
   "cell_type": "code",
   "execution_count": 5,
   "id": "cb92d36f-d478-4024-9077-75ff4a1cd6b3",
   "metadata": {},
   "outputs": [],
   "source": [
    "# Add store data to transaction\n",
    "dft = dft.merge(\n",
    "    dfs[['id', 'nam', 'category']].rename(columns={'id': 'store_id'}),\n",
    "    on='store_id',\n",
    "    how='left'\n",
    ")"
   ]
  },
  {
   "cell_type": "code",
   "execution_count": 6,
   "id": "d044cb5a-31cc-4506-8544-a248b87b62ef",
   "metadata": {},
   "outputs": [
    {
     "data": {
      "text/html": [
       "<div>\n",
       "<style scoped>\n",
       "    .dataframe tbody tr th:only-of-type {\n",
       "        vertical-align: middle;\n",
       "    }\n",
       "\n",
       "    .dataframe tbody tr th {\n",
       "        vertical-align: top;\n",
       "    }\n",
       "\n",
       "    .dataframe thead th {\n",
       "        text-align: right;\n",
       "    }\n",
       "</style>\n",
       "<table border=\"1\" class=\"dataframe\">\n",
       "  <thead>\n",
       "    <tr style=\"text-align: right;\">\n",
       "      <th></th>\n",
       "      <th>id</th>\n",
       "      <th>user_id</th>\n",
       "      <th>store_id</th>\n",
       "      <th>event_occurrence</th>\n",
       "      <th>amount</th>\n",
       "      <th>month</th>\n",
       "      <th>nam</th>\n",
       "      <th>category</th>\n",
       "    </tr>\n",
       "  </thead>\n",
       "  <tbody>\n",
       "    <tr>\n",
       "      <th>0</th>\n",
       "      <td>a555eb55-1da4-6087-b5ab-06b35b608002</td>\n",
       "      <td>93098549-3ff0-e579-01c3-df9183278f64</td>\n",
       "      <td>a3c7874b-75df-9cf2-62ab-cf58be5d9e0e</td>\n",
       "      <td>2020-01-01 06:40:43.323987</td>\n",
       "      <td>315</td>\n",
       "      <td>2020-01</td>\n",
       "      <td>Saitama Ken</td>\n",
       "      <td>コンビニ</td>\n",
       "    </tr>\n",
       "    <tr>\n",
       "      <th>1</th>\n",
       "      <td>f699b867-e70c-5160-90c8-7dfa32dce0da</td>\n",
       "      <td>35ba9da1-98d0-cbb7-7844-e648601b7208</td>\n",
       "      <td>1d59adf3-94f2-f5f8-46c6-8558c544a3a9</td>\n",
       "      <td>2020-01-01 07:04:25.968615</td>\n",
       "      <td>1646</td>\n",
       "      <td>2020-01</td>\n",
       "      <td>Gunma Ken</td>\n",
       "      <td>ショッピング</td>\n",
       "    </tr>\n",
       "  </tbody>\n",
       "</table>\n",
       "</div>"
      ],
      "text/plain": [
       "                                     id                               user_id  \\\n",
       "0  a555eb55-1da4-6087-b5ab-06b35b608002  93098549-3ff0-e579-01c3-df9183278f64   \n",
       "1  f699b867-e70c-5160-90c8-7dfa32dce0da  35ba9da1-98d0-cbb7-7844-e648601b7208   \n",
       "\n",
       "                               store_id            event_occurrence  amount  \\\n",
       "0  a3c7874b-75df-9cf2-62ab-cf58be5d9e0e  2020-01-01 06:40:43.323987     315   \n",
       "1  1d59adf3-94f2-f5f8-46c6-8558c544a3a9  2020-01-01 07:04:25.968615    1646   \n",
       "\n",
       "     month          nam category  \n",
       "0  2020-01  Saitama Ken     コンビニ  \n",
       "1  2020-01    Gunma Ken   ショッピング  "
      ]
     },
     "execution_count": 6,
     "metadata": {},
     "output_type": "execute_result"
    }
   ],
   "source": [
    "dft.head(2)"
   ]
  },
  {
   "cell_type": "markdown",
   "id": "3ba6adff-56d8-4550-b931-a866cf63d855",
   "metadata": {},
   "source": [
    "# Forecast User\n",
    "(2) Forecast GMV for each user for the month of January 2022"
   ]
  },
  {
   "cell_type": "markdown",
   "id": "2d8cc3ef-03b3-4c0d-9075-f1131bb6c99d",
   "metadata": {},
   "source": [
    "### Calculate GMV per user per month"
   ]
  },
  {
   "cell_type": "code",
   "execution_count": 7,
   "id": "4c305695-84a2-4480-9b5d-ad4843de3f6b",
   "metadata": {},
   "outputs": [],
   "source": [
    "def fill_missing_months(ts: pd.Series, inplace: bool = False) -> pd.Series:\n",
    "    \"\"\"Fill missing months with 0 after the month with first order.\"\"\"\n",
    "    if not inplace:\n",
    "        ts = ts.copy()\n",
    "\n",
    "    i = ts.notnull().argmax()\n",
    "    ts.iloc[i:].fillna(0, inplace=True)\n",
    "    \n",
    "    if not inplace:\n",
    "        return ts\n",
    "\n",
    "dfd = (\n",
    "    dft.groupby(['user_id', 'month'])['amount'].sum()\n",
    "    .unstack(1)\n",
    "    .apply(fill_missing_months, axis=1)\n",
    "    .stack()\n",
    "    .to_frame('gmv')\n",
    "    .reset_index()\n",
    ")"
   ]
  },
  {
   "cell_type": "code",
   "execution_count": 8,
   "id": "605c336d-6662-4a7d-a237-754a5dcf503f",
   "metadata": {},
   "outputs": [],
   "source": [
    "# Add forecast month, to calculate lag and rolling features\n",
    "df_for = pd.DataFrame({\n",
    "    'user_id': dfd.user_id.unique(),\n",
    "    'month': pd.Period('2022-01'),\n",
    "    'gmv': np.nan\n",
    "})\n",
    "dfd = pd.concat([dfd, df_for], ignore_index=True)"
   ]
  },
  {
   "cell_type": "code",
   "execution_count": 9,
   "id": "dd515d28-8d36-4e86-a25c-815238f8c6a4",
   "metadata": {},
   "outputs": [
    {
     "data": {
      "text/html": [
       "<div>\n",
       "<style scoped>\n",
       "    .dataframe tbody tr th:only-of-type {\n",
       "        vertical-align: middle;\n",
       "    }\n",
       "\n",
       "    .dataframe tbody tr th {\n",
       "        vertical-align: top;\n",
       "    }\n",
       "\n",
       "    .dataframe thead th {\n",
       "        text-align: right;\n",
       "    }\n",
       "</style>\n",
       "<table border=\"1\" class=\"dataframe\">\n",
       "  <thead>\n",
       "    <tr style=\"text-align: right;\">\n",
       "      <th></th>\n",
       "      <th>user_id</th>\n",
       "      <th>month</th>\n",
       "      <th>gmv</th>\n",
       "    </tr>\n",
       "  </thead>\n",
       "  <tbody>\n",
       "    <tr>\n",
       "      <th>0</th>\n",
       "      <td>00073cc2-c801-c67c-d039-fca63c78c6a9</td>\n",
       "      <td>2020-11</td>\n",
       "      <td>309.0</td>\n",
       "    </tr>\n",
       "    <tr>\n",
       "      <th>1</th>\n",
       "      <td>00073cc2-c801-c67c-d039-fca63c78c6a9</td>\n",
       "      <td>2020-12</td>\n",
       "      <td>18318.0</td>\n",
       "    </tr>\n",
       "  </tbody>\n",
       "</table>\n",
       "</div>"
      ],
      "text/plain": [
       "                                user_id    month      gmv\n",
       "0  00073cc2-c801-c67c-d039-fca63c78c6a9  2020-11    309.0\n",
       "1  00073cc2-c801-c67c-d039-fca63c78c6a9  2020-12  18318.0"
      ]
     },
     "execution_count": 9,
     "metadata": {},
     "output_type": "execute_result"
    }
   ],
   "source": [
    "dfd.head(2)"
   ]
  },
  {
   "cell_type": "code",
   "execution_count": 10,
   "id": "a93581d4-2bf8-4bc0-ad9c-ab7f2cccff82",
   "metadata": {},
   "outputs": [
    {
     "data": {
      "text/html": [
       "<div>\n",
       "<style scoped>\n",
       "    .dataframe tbody tr th:only-of-type {\n",
       "        vertical-align: middle;\n",
       "    }\n",
       "\n",
       "    .dataframe tbody tr th {\n",
       "        vertical-align: top;\n",
       "    }\n",
       "\n",
       "    .dataframe thead th {\n",
       "        text-align: right;\n",
       "    }\n",
       "</style>\n",
       "<table border=\"1\" class=\"dataframe\">\n",
       "  <thead>\n",
       "    <tr style=\"text-align: right;\">\n",
       "      <th></th>\n",
       "      <th>user_id</th>\n",
       "      <th>month</th>\n",
       "      <th>gmv</th>\n",
       "    </tr>\n",
       "  </thead>\n",
       "  <tbody>\n",
       "    <tr>\n",
       "      <th>150009</th>\n",
       "      <td>ffed71e5-7c13-30cf-f1eb-63b80f7f6326</td>\n",
       "      <td>2022-01</td>\n",
       "      <td>NaN</td>\n",
       "    </tr>\n",
       "    <tr>\n",
       "      <th>150010</th>\n",
       "      <td>fff93376-ba79-395d-29aa-707efa359a89</td>\n",
       "      <td>2022-01</td>\n",
       "      <td>NaN</td>\n",
       "    </tr>\n",
       "  </tbody>\n",
       "</table>\n",
       "</div>"
      ],
      "text/plain": [
       "                                     user_id    month  gmv\n",
       "150009  ffed71e5-7c13-30cf-f1eb-63b80f7f6326  2022-01  NaN\n",
       "150010  fff93376-ba79-395d-29aa-707efa359a89  2022-01  NaN"
      ]
     },
     "execution_count": 10,
     "metadata": {},
     "output_type": "execute_result"
    }
   ],
   "source": [
    "dfd.tail(2)"
   ]
  },
  {
   "cell_type": "markdown",
   "id": "1d07dc29-beb6-4797-97f9-8998f71fa702",
   "metadata": {},
   "source": [
    "### Feature Engineering"
   ]
  },
  {
   "cell_type": "code",
   "execution_count": 11,
   "id": "774957b9-1496-4022-a510-6f9dc2a2422a",
   "metadata": {},
   "outputs": [],
   "source": [
    "# Add user age and gender\n",
    "dfd = dfd.merge(dfu.rename(columns={'id': 'user_id'}), on='user_id', how='left')"
   ]
  },
  {
   "cell_type": "code",
   "execution_count": 12,
   "id": "ed670675-055f-46fe-af27-c23607e56d08",
   "metadata": {},
   "outputs": [],
   "source": [
    "# Add passage of time\n",
    "dfd['time_elapsed'] = dfd.month.astype('datetime64[ns]').values.astype(np.int64)/(10**9)"
   ]
  },
  {
   "cell_type": "code",
   "execution_count": 13,
   "id": "c8f89c03-87c2-4fcb-96d6-87a4f4fd7af3",
   "metadata": {},
   "outputs": [],
   "source": [
    "# Add time lag features\n",
    "lags = range(1, 13)\n",
    "for lag in lags:\n",
    "    col_name = f'gmv_lag_{lag}'\n",
    "    dfd[col_name] = dfd.groupby(['user_id'])['gmv'].shift(lag)"
   ]
  },
  {
   "cell_type": "code",
   "execution_count": 14,
   "id": "d31d38d9-cb2c-43fd-af1e-2ef7e9644387",
   "metadata": {},
   "outputs": [],
   "source": [
    "# Add rolling mean for 3 and 6 month windows\n",
    "for roll in [3, 6]:\n",
    "    col_name = f'gmv_roll_mean_{roll}'\n",
    "    dfd[col_name] = dfd.groupby(['user_id'])['gmv'].shift(1).rolling(roll).mean()"
   ]
  },
  {
   "cell_type": "code",
   "execution_count": 15,
   "id": "81d2b7c9-3096-4039-b994-84e6f5391554",
   "metadata": {},
   "outputs": [
    {
     "data": {
      "text/plain": [
       "0.0"
      ]
     },
     "execution_count": 15,
     "metadata": {},
     "output_type": "execute_result"
    }
   ],
   "source": [
    "# GMV per shop category\n",
    "df_cat = (\n",
    "    dft\n",
    "    .groupby(['user_id', 'month', 'category'])['amount'].sum()\n",
    "    .unstack(1)\n",
    "    .apply(fill_missing_months, axis=1)\n",
    "    .stack()\n",
    "    .unstack('category')\n",
    "    .reset_index()\n",
    ")\n",
    "dfd = dfd.merge(df_cat, on=['user_id', 'month'], how='left')\n",
    "\n",
    "# Add GMV of shop category of previous month\n",
    "cat_cols = dft['category'].unique().tolist()\n",
    "lag_cols = [f'{x}_lag_1' for x in cat_cols]\n",
    "dfd[lag_cols] = dfd.groupby(['user_id'])[cat_cols].shift(1)\n",
    "dfd.drop(columns=cat_cols, inplace=True)\n",
    "\n",
    "# Check GMV and category sum of previous month\n",
    "(dfd.gmv_lag_1.fillna(0) - dfd[lag_cols].sum(axis=1)).sum()"
   ]
  },
  {
   "cell_type": "code",
   "execution_count": 16,
   "id": "8d812f1d-c123-4558-a5b7-e35393f57d56",
   "metadata": {},
   "outputs": [],
   "source": [
    "# Convert object dtype to categorical for LightGBM\n",
    "dfd['user_id'] = dfd['user_id'].astype('category')\n",
    "dfd['gender'] = dfd['gender'].astype('category')"
   ]
  },
  {
   "cell_type": "code",
   "execution_count": 17,
   "id": "67d46464-5350-4a36-8306-e5ff05bbef03",
   "metadata": {},
   "outputs": [],
   "source": [
    "# No need to impute missing values because LightGBM can automatically deal with NaN"
   ]
  },
  {
   "cell_type": "code",
   "execution_count": 18,
   "id": "6ee7941b-d605-44af-be57-77c1022c32bc",
   "metadata": {},
   "outputs": [
    {
     "data": {
      "text/html": [
       "<div>\n",
       "<style scoped>\n",
       "    .dataframe tbody tr th:only-of-type {\n",
       "        vertical-align: middle;\n",
       "    }\n",
       "\n",
       "    .dataframe tbody tr th {\n",
       "        vertical-align: top;\n",
       "    }\n",
       "\n",
       "    .dataframe thead th {\n",
       "        text-align: right;\n",
       "    }\n",
       "</style>\n",
       "<table border=\"1\" class=\"dataframe\">\n",
       "  <thead>\n",
       "    <tr style=\"text-align: right;\">\n",
       "      <th></th>\n",
       "      <th>70495</th>\n",
       "      <th>99413</th>\n",
       "      <th>130893</th>\n",
       "    </tr>\n",
       "  </thead>\n",
       "  <tbody>\n",
       "    <tr>\n",
       "      <th>user_id</th>\n",
       "      <td>840c9767-5c47-c5a2-27dd-9d1fecb25622</td>\n",
       "      <td>b6f6fec4-0001-8698-c34e-3dc12da7ca31</td>\n",
       "      <td>eec8cf25-a611-2120-1828-99714492b0fb</td>\n",
       "    </tr>\n",
       "    <tr>\n",
       "      <th>month</th>\n",
       "      <td>2021-01</td>\n",
       "      <td>2021-06</td>\n",
       "      <td>2020-02</td>\n",
       "    </tr>\n",
       "    <tr>\n",
       "      <th>gmv</th>\n",
       "      <td>37637.0</td>\n",
       "      <td>21390.0</td>\n",
       "      <td>13889.0</td>\n",
       "    </tr>\n",
       "    <tr>\n",
       "      <th>gender</th>\n",
       "      <td>M</td>\n",
       "      <td>NaN</td>\n",
       "      <td>F</td>\n",
       "    </tr>\n",
       "    <tr>\n",
       "      <th>age</th>\n",
       "      <td>60.0</td>\n",
       "      <td>82.0</td>\n",
       "      <td>56.0</td>\n",
       "    </tr>\n",
       "    <tr>\n",
       "      <th>time_elapsed</th>\n",
       "      <td>1609459200.0</td>\n",
       "      <td>1622505600.0</td>\n",
       "      <td>1580515200.0</td>\n",
       "    </tr>\n",
       "    <tr>\n",
       "      <th>gmv_lag_1</th>\n",
       "      <td>31718.0</td>\n",
       "      <td>15593.0</td>\n",
       "      <td>15939.0</td>\n",
       "    </tr>\n",
       "    <tr>\n",
       "      <th>gmv_lag_2</th>\n",
       "      <td>40202.0</td>\n",
       "      <td>9187.0</td>\n",
       "      <td>NaN</td>\n",
       "    </tr>\n",
       "    <tr>\n",
       "      <th>gmv_lag_3</th>\n",
       "      <td>20734.0</td>\n",
       "      <td>8121.0</td>\n",
       "      <td>NaN</td>\n",
       "    </tr>\n",
       "    <tr>\n",
       "      <th>gmv_lag_4</th>\n",
       "      <td>26634.0</td>\n",
       "      <td>19619.0</td>\n",
       "      <td>NaN</td>\n",
       "    </tr>\n",
       "    <tr>\n",
       "      <th>gmv_lag_5</th>\n",
       "      <td>42292.0</td>\n",
       "      <td>22786.0</td>\n",
       "      <td>NaN</td>\n",
       "    </tr>\n",
       "    <tr>\n",
       "      <th>gmv_lag_6</th>\n",
       "      <td>20302.0</td>\n",
       "      <td>5324.0</td>\n",
       "      <td>NaN</td>\n",
       "    </tr>\n",
       "    <tr>\n",
       "      <th>gmv_lag_7</th>\n",
       "      <td>31445.0</td>\n",
       "      <td>30515.0</td>\n",
       "      <td>NaN</td>\n",
       "    </tr>\n",
       "    <tr>\n",
       "      <th>gmv_lag_8</th>\n",
       "      <td>22134.0</td>\n",
       "      <td>23692.0</td>\n",
       "      <td>NaN</td>\n",
       "    </tr>\n",
       "    <tr>\n",
       "      <th>gmv_lag_9</th>\n",
       "      <td>41378.0</td>\n",
       "      <td>24796.0</td>\n",
       "      <td>NaN</td>\n",
       "    </tr>\n",
       "    <tr>\n",
       "      <th>gmv_lag_10</th>\n",
       "      <td>90406.0</td>\n",
       "      <td>5909.0</td>\n",
       "      <td>NaN</td>\n",
       "    </tr>\n",
       "    <tr>\n",
       "      <th>gmv_lag_11</th>\n",
       "      <td>23581.0</td>\n",
       "      <td>9242.0</td>\n",
       "      <td>NaN</td>\n",
       "    </tr>\n",
       "    <tr>\n",
       "      <th>gmv_lag_12</th>\n",
       "      <td>18366.0</td>\n",
       "      <td>10814.0</td>\n",
       "      <td>NaN</td>\n",
       "    </tr>\n",
       "    <tr>\n",
       "      <th>gmv_roll_mean_3</th>\n",
       "      <td>30884.666667</td>\n",
       "      <td>10967.0</td>\n",
       "      <td>NaN</td>\n",
       "    </tr>\n",
       "    <tr>\n",
       "      <th>gmv_roll_mean_6</th>\n",
       "      <td>30313.666667</td>\n",
       "      <td>13438.333333</td>\n",
       "      <td>NaN</td>\n",
       "    </tr>\n",
       "    <tr>\n",
       "      <th>コンビニ_lag_1</th>\n",
       "      <td>4594.0</td>\n",
       "      <td>1876.0</td>\n",
       "      <td>2123.0</td>\n",
       "    </tr>\n",
       "    <tr>\n",
       "      <th>ショッピング_lag_1</th>\n",
       "      <td>7875.0</td>\n",
       "      <td>1276.0</td>\n",
       "      <td>932.0</td>\n",
       "    </tr>\n",
       "    <tr>\n",
       "      <th>グルメ_lag_1</th>\n",
       "      <td>4145.0</td>\n",
       "      <td>6762.0</td>\n",
       "      <td>10423.0</td>\n",
       "    </tr>\n",
       "    <tr>\n",
       "      <th>スーパーマーケット_lag_1</th>\n",
       "      <td>10278.0</td>\n",
       "      <td>2244.0</td>\n",
       "      <td>274.0</td>\n",
       "    </tr>\n",
       "    <tr>\n",
       "      <th>ホテル・旅館_lag_1</th>\n",
       "      <td>216.0</td>\n",
       "      <td>0.0</td>\n",
       "      <td>NaN</td>\n",
       "    </tr>\n",
       "    <tr>\n",
       "      <th>カフェ_lag_1</th>\n",
       "      <td>0.0</td>\n",
       "      <td>0.0</td>\n",
       "      <td>NaN</td>\n",
       "    </tr>\n",
       "    <tr>\n",
       "      <th>エンタメ_lag_1</th>\n",
       "      <td>0.0</td>\n",
       "      <td>1162.0</td>\n",
       "      <td>NaN</td>\n",
       "    </tr>\n",
       "    <tr>\n",
       "      <th>マッサージ_lag_1</th>\n",
       "      <td>0.0</td>\n",
       "      <td>0.0</td>\n",
       "      <td>627.0</td>\n",
       "    </tr>\n",
       "    <tr>\n",
       "      <th>ドラッグストア・薬局_lag_1</th>\n",
       "      <td>0.0</td>\n",
       "      <td>0.0</td>\n",
       "      <td>NaN</td>\n",
       "    </tr>\n",
       "    <tr>\n",
       "      <th>その他_lag_1</th>\n",
       "      <td>416.0</td>\n",
       "      <td>0.0</td>\n",
       "      <td>1560.0</td>\n",
       "    </tr>\n",
       "    <tr>\n",
       "      <th>美容院・サロン_lag_1</th>\n",
       "      <td>0.0</td>\n",
       "      <td>0.0</td>\n",
       "      <td>NaN</td>\n",
       "    </tr>\n",
       "    <tr>\n",
       "      <th>ファッション_lag_1</th>\n",
       "      <td>0.0</td>\n",
       "      <td>0.0</td>\n",
       "      <td>NaN</td>\n",
       "    </tr>\n",
       "    <tr>\n",
       "      <th>百貨店・ショッピングセンター_lag_1</th>\n",
       "      <td>4194.0</td>\n",
       "      <td>1234.0</td>\n",
       "      <td>NaN</td>\n",
       "    </tr>\n",
       "    <tr>\n",
       "      <th>家電・携帯電話_lag_1</th>\n",
       "      <td>0.0</td>\n",
       "      <td>0.0</td>\n",
       "      <td>NaN</td>\n",
       "    </tr>\n",
       "    <tr>\n",
       "      <th>クリーニング_lag_1</th>\n",
       "      <td>NaN</td>\n",
       "      <td>0.0</td>\n",
       "      <td>NaN</td>\n",
       "    </tr>\n",
       "    <tr>\n",
       "      <th>病院・クリニック_lag_1</th>\n",
       "      <td>0.0</td>\n",
       "      <td>1039.0</td>\n",
       "      <td>NaN</td>\n",
       "    </tr>\n",
       "  </tbody>\n",
       "</table>\n",
       "</div>"
      ],
      "text/plain": [
       "                                                    70495   \\\n",
       "user_id               840c9767-5c47-c5a2-27dd-9d1fecb25622   \n",
       "month                                              2021-01   \n",
       "gmv                                                37637.0   \n",
       "gender                                                   M   \n",
       "age                                                   60.0   \n",
       "time_elapsed                                  1609459200.0   \n",
       "gmv_lag_1                                          31718.0   \n",
       "gmv_lag_2                                          40202.0   \n",
       "gmv_lag_3                                          20734.0   \n",
       "gmv_lag_4                                          26634.0   \n",
       "gmv_lag_5                                          42292.0   \n",
       "gmv_lag_6                                          20302.0   \n",
       "gmv_lag_7                                          31445.0   \n",
       "gmv_lag_8                                          22134.0   \n",
       "gmv_lag_9                                          41378.0   \n",
       "gmv_lag_10                                         90406.0   \n",
       "gmv_lag_11                                         23581.0   \n",
       "gmv_lag_12                                         18366.0   \n",
       "gmv_roll_mean_3                               30884.666667   \n",
       "gmv_roll_mean_6                               30313.666667   \n",
       "コンビニ_lag_1                                          4594.0   \n",
       "ショッピング_lag_1                                        7875.0   \n",
       "グルメ_lag_1                                           4145.0   \n",
       "スーパーマーケット_lag_1                                    10278.0   \n",
       "ホテル・旅館_lag_1                                         216.0   \n",
       "カフェ_lag_1                                              0.0   \n",
       "エンタメ_lag_1                                             0.0   \n",
       "マッサージ_lag_1                                            0.0   \n",
       "ドラッグストア・薬局_lag_1                                       0.0   \n",
       "その他_lag_1                                            416.0   \n",
       "美容院・サロン_lag_1                                          0.0   \n",
       "ファッション_lag_1                                           0.0   \n",
       "百貨店・ショッピングセンター_lag_1                                4194.0   \n",
       "家電・携帯電話_lag_1                                          0.0   \n",
       "クリーニング_lag_1                                           NaN   \n",
       "病院・クリニック_lag_1                                         0.0   \n",
       "\n",
       "                                                    99413   \\\n",
       "user_id               b6f6fec4-0001-8698-c34e-3dc12da7ca31   \n",
       "month                                              2021-06   \n",
       "gmv                                                21390.0   \n",
       "gender                                                 NaN   \n",
       "age                                                   82.0   \n",
       "time_elapsed                                  1622505600.0   \n",
       "gmv_lag_1                                          15593.0   \n",
       "gmv_lag_2                                           9187.0   \n",
       "gmv_lag_3                                           8121.0   \n",
       "gmv_lag_4                                          19619.0   \n",
       "gmv_lag_5                                          22786.0   \n",
       "gmv_lag_6                                           5324.0   \n",
       "gmv_lag_7                                          30515.0   \n",
       "gmv_lag_8                                          23692.0   \n",
       "gmv_lag_9                                          24796.0   \n",
       "gmv_lag_10                                          5909.0   \n",
       "gmv_lag_11                                          9242.0   \n",
       "gmv_lag_12                                         10814.0   \n",
       "gmv_roll_mean_3                                    10967.0   \n",
       "gmv_roll_mean_6                               13438.333333   \n",
       "コンビニ_lag_1                                          1876.0   \n",
       "ショッピング_lag_1                                        1276.0   \n",
       "グルメ_lag_1                                           6762.0   \n",
       "スーパーマーケット_lag_1                                     2244.0   \n",
       "ホテル・旅館_lag_1                                           0.0   \n",
       "カフェ_lag_1                                              0.0   \n",
       "エンタメ_lag_1                                          1162.0   \n",
       "マッサージ_lag_1                                            0.0   \n",
       "ドラッグストア・薬局_lag_1                                       0.0   \n",
       "その他_lag_1                                              0.0   \n",
       "美容院・サロン_lag_1                                          0.0   \n",
       "ファッション_lag_1                                           0.0   \n",
       "百貨店・ショッピングセンター_lag_1                                1234.0   \n",
       "家電・携帯電話_lag_1                                          0.0   \n",
       "クリーニング_lag_1                                           0.0   \n",
       "病院・クリニック_lag_1                                      1039.0   \n",
       "\n",
       "                                                    130893  \n",
       "user_id               eec8cf25-a611-2120-1828-99714492b0fb  \n",
       "month                                              2020-02  \n",
       "gmv                                                13889.0  \n",
       "gender                                                   F  \n",
       "age                                                   56.0  \n",
       "time_elapsed                                  1580515200.0  \n",
       "gmv_lag_1                                          15939.0  \n",
       "gmv_lag_2                                              NaN  \n",
       "gmv_lag_3                                              NaN  \n",
       "gmv_lag_4                                              NaN  \n",
       "gmv_lag_5                                              NaN  \n",
       "gmv_lag_6                                              NaN  \n",
       "gmv_lag_7                                              NaN  \n",
       "gmv_lag_8                                              NaN  \n",
       "gmv_lag_9                                              NaN  \n",
       "gmv_lag_10                                             NaN  \n",
       "gmv_lag_11                                             NaN  \n",
       "gmv_lag_12                                             NaN  \n",
       "gmv_roll_mean_3                                        NaN  \n",
       "gmv_roll_mean_6                                        NaN  \n",
       "コンビニ_lag_1                                          2123.0  \n",
       "ショッピング_lag_1                                         932.0  \n",
       "グルメ_lag_1                                          10423.0  \n",
       "スーパーマーケット_lag_1                                      274.0  \n",
       "ホテル・旅館_lag_1                                           NaN  \n",
       "カフェ_lag_1                                              NaN  \n",
       "エンタメ_lag_1                                             NaN  \n",
       "マッサージ_lag_1                                          627.0  \n",
       "ドラッグストア・薬局_lag_1                                       NaN  \n",
       "その他_lag_1                                           1560.0  \n",
       "美容院・サロン_lag_1                                          NaN  \n",
       "ファッション_lag_1                                           NaN  \n",
       "百貨店・ショッピングセンター_lag_1                                   NaN  \n",
       "家電・携帯電話_lag_1                                          NaN  \n",
       "クリーニング_lag_1                                           NaN  \n",
       "病院・クリニック_lag_1                                         NaN  "
      ]
     },
     "execution_count": 18,
     "metadata": {},
     "output_type": "execute_result"
    }
   ],
   "source": [
    "dfd.sample(3).T"
   ]
  },
  {
   "cell_type": "markdown",
   "id": "66c93f48-e501-4b84-9d26-15c9b19d322b",
   "metadata": {},
   "source": [
    "### Plot user example"
   ]
  },
  {
   "cell_type": "code",
   "execution_count": 19,
   "id": "46985dda-f157-424f-965a-e6eb47b25b9e",
   "metadata": {},
   "outputs": [
    {
     "data": {
      "text/plain": [
       "<matplotlib.legend.Legend at 0x17616ac20>"
      ]
     },
     "execution_count": 19,
     "metadata": {},
     "output_type": "execute_result"
    },
    {
     "data": {
      "image/png": "[encoded data removed]",
      "text/plain": [
       "<Figure size 800x400 with 1 Axes>"
      ]
     },
     "metadata": {},
     "output_type": "display_data"
    }
   ],
   "source": [
    "users = dfd.user_id.unique()\n",
    "tsu = dfd[dfd.user_id == users[0]].set_index('month')['gmv']\n",
    "tsu_lag_1 = dfd[dfd.user_id == users[0]].set_index('month')['gmv_lag_1']\n",
    "tsu.plot(label='gmv')\n",
    "tsu_lag_1.plot(label='gmv_lag_1')\n",
    "plt.legend()"
   ]
  },
  {
   "cell_type": "markdown",
   "id": "53c06896-8188-4c72-b6be-24507881bbfd",
   "metadata": {},
   "source": [
    "### Make datasets"
   ]
  },
  {
   "cell_type": "code",
   "execution_count": 20,
   "id": "5f407d8e-c93e-4ba3-959d-67a24e0ede11",
   "metadata": {},
   "outputs": [],
   "source": [
    "# Split train/valiation/test and forecast datasets\n",
    "val_month = '2021-11'\n",
    "test_month = '2021-12'\n",
    "for_month = '2022-01'\n",
    "\n",
    "df_train = dfd[~dfd.month.isin([val_month, test_month, for_month])]\n",
    "df_val = dfd[dfd.month == val_month]\n",
    "df_test = dfd[dfd.month == test_month]\n",
    "df_for = dfd[dfd.month == for_month]"
   ]
  },
  {
   "cell_type": "code",
   "execution_count": 21,
   "id": "1289b11e-d9ee-4f95-bb2e-f02ece25dac7",
   "metadata": {},
   "outputs": [
    {
     "data": {
      "text/plain": [
       "((150011, 34), (9190, 34), (9542, 34), (9542, 34))"
      ]
     },
     "execution_count": 21,
     "metadata": {},
     "output_type": "execute_result"
    }
   ],
   "source": [
    "# Select model features and target\n",
    "x_cols = dfd.columns.drop(['gmv', 'month'])\n",
    "y_col = 'gmv'\n",
    "\n",
    "X_train = df_train[x_cols]\n",
    "y_train = df_train[y_col]\n",
    "\n",
    "X_val = df_val[x_cols]\n",
    "y_val = df_val[y_col]\n",
    "\n",
    "X_test = df_test[x_cols]\n",
    "y_test = df_test[y_col]\n",
    "\n",
    "X_for = df_for[x_cols]\n",
    "y_for = df_for[y_col]\n",
    "\n",
    "X_train.shape, X_val.shape, X_test.shape, X_for.shape"
   ]
  },
  {
   "cell_type": "markdown",
   "id": "c44f75dd-246b-4b85-a931-3987a851db71",
   "metadata": {},
   "source": [
    "### LightGBM Model"
   ]
  },
  {
   "cell_type": "code",
   "execution_count": 22,
   "id": "7dafad17-e72f-468f-88a8-0506851ffd5a",
   "metadata": {},
   "outputs": [
    {
     "name": "stdout",
     "output_type": "stream",
     "text": [
      "[LightGBM] [Info] Total Bins 16684\n",
      "[LightGBM] [Info] Number of data points in the train set: 150011, number of used features: 34\n",
      "[LightGBM] [Info] Start training from score 17972.239469\n",
      "Training until validation scores don't improve for 5 rounds\n",
      "Did not meet early stopping. Best iteration is:\n",
      "[100]\tvalid_0's l2: 2.352e+08\n"
     ]
    }
   ],
   "source": [
    "# Use early stopping with validation dataset to avoid overfitting\n",
    "params = dict(\n",
    "    num_boost_round=100,\n",
    "    learning_rate=0.1,\n",
    "    force_row_wise=True,\n",
    ")\n",
    "ds_train = lgb.Dataset(X_train, y_train)\n",
    "ds_val = lgb.Dataset(X_val, y_val)\n",
    "\n",
    "model = lgb.train(\n",
    "    params, \n",
    "    ds_train,\n",
    "    valid_sets=[ds_val], \n",
    "    callbacks=[lgb.early_stopping(stopping_rounds=5)],\n",
    ")"
   ]
  },
  {
   "cell_type": "code",
   "execution_count": 23,
   "id": "b203b2bd-591c-4619-9226-415f21847c41",
   "metadata": {},
   "outputs": [
    {
     "data": {
      "text/plain": [
       "(0.0, 126628.42647034297, 19160.349788532203)"
      ]
     },
     "execution_count": 23,
     "metadata": {},
     "output_type": "execute_result"
    }
   ],
   "source": [
    "# Prediction for test dataset\n",
    "y_pred = model.predict(X_test)\n",
    "y_pred[y_pred < 0] = 0\n",
    "\n",
    "y_pred.min(), y_pred.max(), y_pred.mean()"
   ]
  },
  {
   "cell_type": "markdown",
   "id": "519312a8-da7c-4754-9732-4fd09439f489",
   "metadata": {},
   "source": [
    "### Baseline"
   ]
  },
  {
   "cell_type": "code",
   "execution_count": 24,
   "id": "7cdcdc38-c6af-4deb-a6f3-cd54174859e7",
   "metadata": {},
   "outputs": [],
   "source": [
    "# Naive prediction: GMV of next month is GMV of current month\n",
    "y_base = df_test['gmv_lag_1'].fillna(0)"
   ]
  },
  {
   "cell_type": "markdown",
   "id": "2dee5e49-9667-4d1f-aace-28f2587bfbe1",
   "metadata": {},
   "source": [
    "### Metrics"
   ]
  },
  {
   "cell_type": "code",
   "execution_count": 25,
   "id": "85c40de7-4d77-459f-90ee-291c6a907f05",
   "metadata": {},
   "outputs": [
    {
     "data": {
      "text/html": [
       "<div>\n",
       "<style scoped>\n",
       "    .dataframe tbody tr th:only-of-type {\n",
       "        vertical-align: middle;\n",
       "    }\n",
       "\n",
       "    .dataframe tbody tr th {\n",
       "        vertical-align: top;\n",
       "    }\n",
       "\n",
       "    .dataframe thead th {\n",
       "        text-align: right;\n",
       "    }\n",
       "</style>\n",
       "<table border=\"1\" class=\"dataframe\">\n",
       "  <thead>\n",
       "    <tr style=\"text-align: right;\">\n",
       "      <th></th>\n",
       "      <th>mae</th>\n",
       "      <th>mse</th>\n",
       "    </tr>\n",
       "  </thead>\n",
       "  <tbody>\n",
       "    <tr>\n",
       "      <th>baseline</th>\n",
       "      <td>13.0</td>\n",
       "      <td>590158.8</td>\n",
       "    </tr>\n",
       "    <tr>\n",
       "      <th>lightgbm</th>\n",
       "      <td>9.2</td>\n",
       "      <td>284475.9</td>\n",
       "    </tr>\n",
       "    <tr>\n",
       "      <th>ratio</th>\n",
       "      <td>1.4</td>\n",
       "      <td>2.1</td>\n",
       "    </tr>\n",
       "  </tbody>\n",
       "</table>\n",
       "</div>"
      ],
      "text/plain": [
       "           mae       mse\n",
       "baseline  13.0  590158.8\n",
       "lightgbm   9.2  284475.9\n",
       "ratio      1.4       2.1"
      ]
     },
     "execution_count": 25,
     "metadata": {},
     "output_type": "execute_result"
    }
   ],
   "source": [
    "# Compare performance of LightGBM to native baseline prediction\n",
    "def calculate_metrics(y: pd.Series, y_pred: pd.Series) -> pd.Series:\n",
    "    return pd.Series({\n",
    "        'mae': mean_absolute_error(y, y_pred),\n",
    "        'mse': mean_squared_error(y, y_pred),\n",
    "    })\n",
    "\n",
    "df_metrics = pd.DataFrame({\n",
    "    'baseline': calculate_metrics(y_test, y_base),\n",
    "    'lightgbm': calculate_metrics(y_test, y_pred),\n",
    "})\n",
    "df_metrics = (df_metrics/1000)\n",
    "df_metrics['ratio'] = (df_metrics.baseline/df_metrics.lightgbm)\n",
    "\n",
    "df_metrics.T.round(1)"
   ]
  },
  {
   "cell_type": "markdown",
   "id": "f34c3e83-6348-48af-9859-0ba3aa969f1a",
   "metadata": {},
   "source": [
    "### Forecast"
   ]
  },
  {
   "cell_type": "code",
   "execution_count": 26,
   "id": "5eb7bc42-63f2-49b2-8061-3ffc55722ab2",
   "metadata": {},
   "outputs": [],
   "source": [
    "# Forecast for 2022-01\n",
    "y_for = model.predict(X_for).astype(int)\n",
    "y_for[y_for < 0] = 0"
   ]
  },
  {
   "cell_type": "code",
   "execution_count": 27,
   "id": "927615fb-0047-45e8-af44-51553efcb7a1",
   "metadata": {},
   "outputs": [
    {
     "data": {
      "text/html": [
       "<div>\n",
       "<style scoped>\n",
       "    .dataframe tbody tr th:only-of-type {\n",
       "        vertical-align: middle;\n",
       "    }\n",
       "\n",
       "    .dataframe tbody tr th {\n",
       "        vertical-align: top;\n",
       "    }\n",
       "\n",
       "    .dataframe thead th {\n",
       "        text-align: right;\n",
       "    }\n",
       "</style>\n",
       "<table border=\"1\" class=\"dataframe\">\n",
       "  <thead>\n",
       "    <tr style=\"text-align: right;\">\n",
       "      <th></th>\n",
       "      <th>user_id</th>\n",
       "      <th>amount_2022-01</th>\n",
       "    </tr>\n",
       "  </thead>\n",
       "  <tbody>\n",
       "    <tr>\n",
       "      <th>140469</th>\n",
       "      <td>00073cc2-c801-c67c-d039-fca63c78c6a9</td>\n",
       "      <td>271</td>\n",
       "    </tr>\n",
       "    <tr>\n",
       "      <th>140470</th>\n",
       "      <td>000b6710-f8b4-ddd4-1913-90c7d424fccf</td>\n",
       "      <td>238</td>\n",
       "    </tr>\n",
       "    <tr>\n",
       "      <th>140471</th>\n",
       "      <td>00183cfe-ceb0-9220-7984-f33f61c61ae4</td>\n",
       "      <td>2840</td>\n",
       "    </tr>\n",
       "    <tr>\n",
       "      <th>140472</th>\n",
       "      <td>001b10c4-0ec1-68c9-a059-0a44159119bd</td>\n",
       "      <td>636</td>\n",
       "    </tr>\n",
       "    <tr>\n",
       "      <th>140473</th>\n",
       "      <td>001cfd71-1996-2ffe-d382-4e7cd476ef88</td>\n",
       "      <td>0</td>\n",
       "    </tr>\n",
       "  </tbody>\n",
       "</table>\n",
       "</div>"
      ],
      "text/plain": [
       "                                     user_id  amount_2022-01\n",
       "140469  00073cc2-c801-c67c-d039-fca63c78c6a9             271\n",
       "140470  000b6710-f8b4-ddd4-1913-90c7d424fccf             238\n",
       "140471  00183cfe-ceb0-9220-7984-f33f61c61ae4            2840\n",
       "140472  001b10c4-0ec1-68c9-a059-0a44159119bd             636\n",
       "140473  001cfd71-1996-2ffe-d382-4e7cd476ef88               0"
      ]
     },
     "execution_count": 27,
     "metadata": {},
     "output_type": "execute_result"
    }
   ],
   "source": [
    "# Make output data\n",
    "df_out = df_for[['user_id']]\n",
    "df_out[f'amount_{for_month}'] = y_for\n",
    "df_out.head()"
   ]
  },
  {
   "cell_type": "code",
   "execution_count": 28,
   "id": "0efcf9a5-65f9-4818-9634-578a35a66d49",
   "metadata": {},
   "outputs": [],
   "source": [
    "df_out.to_csv('output/forecast_users.csv', index=False)"
   ]
  },
  {
   "cell_type": "markdown",
   "id": "62006b93-6863-4974-b703-00f642f7a8de",
   "metadata": {},
   "source": [
    "# Conclusion\n",
    "The LightGBM model performs 1.4x ~ 2x better than the naive baseline prediction.\n",
    "\n",
    "### Improvement Steps\n",
    "- Add shop location as a feature\n",
    "- Add Fourier terms a features\n",
    "- LightGBM parameter optimization with Optuna\n",
    "- Use cross validation\n",
    "- Interpretabiliby with Shapley values"
   ]
  }
 ],
 "metadata": {
  "kernelspec": {
   "display_name": "timeseries",
   "language": "python",
   "name": "timeseries"
  },
  "language_info": {
   "codemirror_mode": {
    "name": "ipython",
    "version": 3
   },
   "file_extension": ".py",
   "mimetype": "text/x-python",
   "name": "python",
   "nbconvert_exporter": "python",
   "pygments_lexer": "ipython3",
   "version": "3.10.11"
  }
 },
 "nbformat": 4,
 "nbformat_minor": 5
}
